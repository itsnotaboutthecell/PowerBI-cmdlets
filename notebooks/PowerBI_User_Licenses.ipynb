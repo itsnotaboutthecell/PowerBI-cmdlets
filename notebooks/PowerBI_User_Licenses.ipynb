{
 "cells": [
  {
   "cell_type": "markdown",
   "metadata": {},
   "source": [
    "# Microsoft Graph Module for Windows PowerShell\n",
    "- [AzureAD](https://learn.microsoft.com/powershell/module/azuread)"
   ]
  },
  {
   "cell_type": "code",
   "execution_count": null,
   "metadata": {
    "scrolled": true
   },
   "outputs": [],
   "source": [
    "$m = \"Microsoft.Graph\"\n",
    "\n",
    "# Determines if Module already exists, if not installs\n",
    "if (Get-Module -ListAvailable -Name $m) {\n",
    "        write-host \"Module $m is already imported.\"\n",
    "    } \n",
    "    else {\n",
    "        Install-Module -Name $m -Force -Scope CurrentUser\n",
    "        Import-Module $m\n",
    "}"
   ]
  },
  {
   "cell_type": "markdown",
   "metadata": {},
   "source": [
    "# Connect to the Microsoft Graph"
   ]
  },
  {
   "cell_type": "code",
   "execution_count": null,
   "metadata": {},
   "outputs": [],
   "source": [
    "Connect-Graph -Scopes Organization.Read.All"
   ]
  },
  {
   "cell_type": "markdown",
   "metadata": {},
   "source": [
    "# Output"
   ]
  },
  {
   "cell_type": "code",
   "execution_count": null,
   "metadata": {},
   "outputs": [],
   "source": [
    "$outPath = \"C:\\\""
   ]
  },
  {
   "cell_type": "markdown",
   "metadata": {},
   "source": [
    "# Error Handling: \n",
    "\n",
    "Determines if the variable outPath's final character is a forward slash and that folder exists."
   ]
  },
  {
   "cell_type": "code",
   "execution_count": null,
   "metadata": {},
   "outputs": [],
   "source": [
    "if ($outPath.Substring($outPath.Length - 1, 1) -cne \"\\\") { $outPath = $outPath + \"\\\" }\n",
    "if (!(Test-Path $outPath)) { New-Item -ItemType Directory -Force -Path $outPath }"
   ]
  },
  {
   "cell_type": "markdown",
   "metadata": {},
   "source": [
    "# License Type"
   ]
  },
  {
   "cell_type": "code",
   "execution_count": null,
   "metadata": {},
   "outputs": [],
   "source": [
    "$pbiSubscriptions = Get-MgSubscribedSku | Select -Property Sku*, ConsumedUnits -ExpandProperty PrepaidUnits | Where-Object { ($_.SkuPartNumber.contains("POWER_BI") -or $_.SkuPartNumber.contains("PBI")) }",
    "$licenseType = $pbiSubscriptions | Select SkuPartNumber"
   ]
  },
  {
   "cell_type": "markdown",
   "metadata": {},
   "source": [
    "# Iterate License Types"
   ]
  },
  {
   "cell_type": "code",
   "execution_count": null,
   "metadata": {},
   "outputs": [],
   "source": [
    "foreach ($license in $licenseType) {\n",
    "\n",
    "$licenseName = $license.SkuPartNumber",
    "Write-Host \"Now Searching: $($licenseName)\"\n",
    "$licenses = Get-MgSubscribedSku -All | Where SkuPartNumber -eq $licenseName\n",
    "$licenses | Select -Property Id, Sku*, CapabilityStatus, ConsumedUnits\n",
    "\n",
    "if ($licenses.ConsumedUnits -ne 0) {\n"
    "    Write-Host \"Now Exporting Report: $($licenseName)\"\n",
    "    $Licenses | Export-Csv -Path \"$($outPath)$($licenseName)_$(Get-Date -Format \"yyyyMMdd\").csv\" -NoTypeInformation\n",
    "\n",
    "}",
    "}"
   ]
  }
 ],
 "metadata": {
  "kernelspec": {
   "display_name": ".NET (PowerShell)",
   "language": "PowerShell",
   "name": ".net-powershell"
  },
  "language_info": {
   "file_extension": ".ps1",
   "mimetype": "text/x-powershell",
   "name": "PowerShell",
   "pygments_lexer": "powershell",
   "version": "7.0"
  }
 },
 "nbformat": 4,
 "nbformat_minor": 4
}
