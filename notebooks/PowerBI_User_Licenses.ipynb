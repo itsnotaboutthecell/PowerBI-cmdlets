{
 "cells": [
  {
   "cell_type": "markdown",
   "metadata": {},
   "source": [
    "# Microsoft Azure Active Directory Module for Windows PowerShell\n",
    "- [AzureAD](https://learn.microsoft.com/powershell/module/azuread)"
   ]
  },
  {
   "cell_type": "code",
   "execution_count": null,
   "metadata": {
    "scrolled": true
   },
   "outputs": [],
   "source": [
    "$m = \"AzureAD\"\n",
    "\n",
    "# Determines if Module already exists, if not installs\n",
    "if (Get-Module -ListAvailable -Name $m) {\n",
    "        write-host \"Module $m is already imported.\"\n",
    "    } \n",
    "    else {\n",
    "        Install-Module -Name $m -Force -Scope CurrentUser\n",
    "        Import-Module $m\n",
    "}"
   ]
  },
  {
   "cell_type": "markdown",
   "metadata": {},
   "source": [
    "# Connect to the MS Online Service"
   ]
  },
  {
   "cell_type": "code",
   "execution_count": null,
   "metadata": {},
   "outputs": [],
   "source": [
    "Connect-AzureAD"
   ]
  },
  {
   "cell_type": "markdown",
   "metadata": {},
   "source": [
    "# Output"
   ]
  },
  {
   "cell_type": "code",
   "execution_count": null,
   "metadata": {},
   "outputs": [],
   "source": [
    "$outPath = \"C:\\\""
   ]
  },
  {
   "cell_type": "markdown",
   "metadata": {},
   "source": [
    "# Error Handling: \n",
    "\n",
    "Determines if the variable outPath's final character is a forward slash and that folder exists."
   ]
  },
  {
   "cell_type": "code",
   "execution_count": null,
   "metadata": {},
   "outputs": [],
   "source": [
    "if ($outPath.Substring($outPath.Length - 1, 1) -cne \"\\\") { $outPath = $outPath + \"\\\" }\n",
    "if (!(Test-Path $outPath)) { New-Item -ItemType Directory -Force -Path $outPath }"
   ]
  },
  {
   "cell_type": "markdown",
   "metadata": {},
   "source": [
    "# License Type"
   ]
  },
  {
   "cell_type": "code",
   "execution_count": null,
   "metadata": {},
   "outputs": [],
   "source": [
    "$licenseType = \"POWER_BI_STANDARD\",\n\"POWER_BI_ADDON\",\n\"PBI_PREMIUM_P1_ADDON\",\n\"PBI_PREMIUM_PER_USER\",\n\"PBI_PREMIUM_PER_USER_ADDON\",\n\"PBI_PREMIUM_PER_USER_DEPT\",\n\"POWER_BI_PRO\",\n\"POWER_BI_PRO_CE\",\n\"POWER_BI_PRO_DEPT\""
   ]
  },
  {
   "cell_type": "markdown",
   "metadata": {},
   "source": [
    "# Get All Users"
   ]
  },
  {
   "cell_type": "code",
   "execution_count": null,
   "metadata": {},
   "outputs": [],
   "source": [
    "$allUsers = Get-AzureADUser -All | where {$_.isLicensed -eq \"True\"}"
   ]
  },
  {
   "cell_type": "markdown",
   "metadata": {},
   "source": [
    "# Iterate License Types"
   ]
  },
  {
   "cell_type": "code",
   "execution_count": null,
   "metadata": {},
   "outputs": [],
   "source": [
    "foreach ($license in $licenseType) {\n",
    "\n",
    "    $Licenses = $allUsers | Where-Object {($_.licenses).AccountSkuId -match ($license)} | select objectId, WhenCreated, SignInName , displayName, Title, City, State, Country\n",
    "\n",
    "    Write-Host \"Now Exporting Report: $($license)\"\n",
    "    $Licenses | Export-Csv -Path \"$($outPath)$($license)_$(Get-Date -Format \"yyyyMMdd\").csv\" -NoTypeInformation\n",
    "\n",
    "}"
   ]
  }
 ],
 "metadata": {
  "kernelspec": {
   "display_name": ".NET (PowerShell)",
   "language": "PowerShell",
   "name": ".net-powershell"
  },
  "language_info": {
   "file_extension": ".ps1",
   "mimetype": "text/x-powershell",
   "name": "PowerShell",
   "pygments_lexer": "powershell",
   "version": "7.0"
  }
 },
 "nbformat": 4,
 "nbformat_minor": 4
}
